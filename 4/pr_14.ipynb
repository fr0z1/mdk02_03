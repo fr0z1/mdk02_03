{
  "metadata": {
    "kernelspec": {
      "name": "python",
      "display_name": "Python (Pyodide)",
      "language": "python"
    },
    "language_info": {
      "codemirror_mode": {
        "name": "python",
        "version": 3
      },
      "file_extension": ".py",
      "mimetype": "text/x-python",
      "name": "python",
      "nbconvert_exporter": "python",
      "pygments_lexer": "ipython3",
      "version": "3.8"
    }
  },
  "nbformat_minor": 5,
  "nbformat": 4,
  "cells": [
    {
      "id": "eacd06c4-c477-4363-8f7e-22e40ba6273a",
      "cell_type": "code",
      "source": "def get_wv(D0):\n    h = 6.626e-34\n    c = 3.0e8\n    N_A = 6.022e23\n    \n    E_molecule = (D0 * 1e3) / N_A\n    lambda_wave = h * c / E_molecule\n    lambda_wave_nm = lambda_wave * 1e9\n    return lambda_wave_nm\n\nprint(get_wv(500))\n    ",
      "metadata": {},
      "outputs": [
        {
          "name": "stdout",
          "output_type": "stream",
          "text": [
            "239.41063200000002\n"
          ]
        }
      ],
      "execution_count": 1
    },
    {
      "id": "74e9d778-337c-425b-93f6-a944c95f30fe",
      "cell_type": "code",
      "source": "",
      "metadata": {},
      "outputs": [],
      "execution_count": null
    }
  ]
}