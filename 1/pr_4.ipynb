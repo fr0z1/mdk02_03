{
  "metadata": {
    "kernelspec": {
      "name": "python",
      "display_name": "Python (Pyodide)",
      "language": "python"
    },
    "language_info": {
      "codemirror_mode": {
        "name": "python",
        "version": 3
      },
      "file_extension": ".py",
      "mimetype": "text/x-python",
      "name": "python",
      "nbconvert_exporter": "python",
      "pygments_lexer": "ipython3",
      "version": "3.8"
    }
  },
  "nbformat_minor": 5,
  "nbformat": 4,
  "cells": [
    {
      "id": "ceb34f13-036c-4441-b7b3-2f5e33db4cbb",
      "cell_type": "code",
      "source": "class BankAccount:\n    # \"\"\" Абстрактный базовый класс, представляющий банковский счет.\"\"\"\n    currency = '$'\n    def __init__(self, customer, account_number, balance=0):\n        # \"\"\"\n        # Инициализация класса BankAccount значениями имени клиента, номера счета и\n        # баланса при открытии счета (по умолчанию 0).\n        # \"\"\"\n        try:\n            ccno = str(account_number)\n            ccl = []\n            for n in ccno:\n                if n == ' ':\n                    continue\n                ccl.append(int(n))\n            for i in range(0,16,2):\n                ccl[i] *= 2\n                if ccl[i] > 9:\n                    ccl[i] = 1 + (ccl[i] - 10)\n            checksum = sum(ccl) % 10\n            if checksum:\n                raise ValueError()\n            else:\n                self.account_number = account_number\n                self.customer = customer\n                self.balance = balance\n                print(ccno, 'is a valid credit card number')\n        except:\n            raise ValueError(f'{ccno} is not a valid credit card number')\n\ndef deposit(self, amount):\n    \"\"\" Deposit amount into the bank account.\"\"\"\n    # \"\"\"Размер вклада на банковский счет.\"\"\"\n    if amount > 0:\n        self.balance += amount\n    else:\n        print('Invalid deposit amount:', amount)\n\ndef withdraw(self, amount):\n    # \"\"\"\n    # Сумма средств, снимаемых с банковского счета, при условии достаточной суммы\n    # на этом счете.\n    # \"\"\"\n \n    if amount > 0:\n        if amount > self.balance:\n            print('Insufficient funds')\n        else:\n            self.balance -= amount\n    else:\n        print('Invalid withdrawal amount:', amount)",
      "metadata": {},
      "outputs": [],
      "execution_count": 1
    },
    {
      "id": "e79c5d7a-61ca-4682-89af-0b36d2abd866",
      "cell_type": "code",
      "source": "class CurrentAccount(BankAccount):\n    # \"\"\" Класс, представляющий текущий (чековый) счет. \"\"\"\n    def __init__(self, customer, account_number, annual_fee, transaction_limit, overdraft, balance=0):\n        # \"\"\" Инициализация текущего счета. \"\"\"\n        self.annual_fee = annual_fee\n        self.transaction_limit = transaction_limit\n        self.overdraft = overdraft\n        super().__init__(customer, account_number, balance)\n        \n    def withdraw(self, amount):\n        # \"\"\"\n        # Снятие денежной суммы, если на счете имеется достаточно средств и снимаемая сумма\n        # меньше лимита, установленного для одной транзакции.\n        # \"\"\"\n        if amount <= (0 - self.overdraft):\n            print('Invalid withdrawal amount:', amount)\n            return\n        if amount > (self.balance + self.overdraft):\n            print('Insufficient funds')\n            return\n        if amount > self.transaction_limit:\n            print('{0:s}{1:.2f} exceeds the single transaction limit of {0:s}{2:.2f}'.format(self.currency, amount, self.transaction_limit))\n            return\n        self.balance -= amount\n \n    def apply_annual_fee(self):\n        # \"\"\" Удержание ежегодной оплаты с баланса счета. \"\"\"\n        self.balance = max(0., self.balance - self.annual_fee)\n\n    def print_balance(self):\n        # \"\"\" Вывод баланса счета. \"\"\"\n        print(self.balance)",
      "metadata": {},
      "outputs": [],
      "execution_count": null
    }
  ]
}