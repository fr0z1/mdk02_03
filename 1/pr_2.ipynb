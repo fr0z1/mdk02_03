{
  "metadata": {
    "kernelspec": {
      "name": "python",
      "display_name": "Python (Pyodide)",
      "language": "python"
    },
    "language_info": {
      "codemirror_mode": {
        "name": "python",
        "version": 3
      },
      "file_extension": ".py",
      "mimetype": "text/x-python",
      "name": "python",
      "nbconvert_exporter": "python",
      "pygments_lexer": "ipython3",
      "version": "3.8"
    }
  },
  "nbformat_minor": 5,
  "nbformat": 4,
  "cells": [
    {
      "id": "4f999697-1556-4d70-9c0a-db6a1b102fb3",
      "cell_type": "code",
      "source": "n = 27\n\nwhile True:\n    print(n, end=' ')\n    if n == 1:\n        break\n    if n % 2:\n        n = 3 * n + 1\n    else:\n        n = n // 2\nprint()",
      "metadata": {},
      "outputs": [
        {
          "name": "stdout",
          "output_type": "stream",
          "text": [
            "27 82 41 124 62 31 94 47 142 71 214 107 322 161 484 242 121 364 182 91 274 137 412 206 103 310 155 466 233 700 350 175 526 263 790 395 1186 593 1780 890 445 1336 668 334 167 502 251 754 377 1132 566 283 850 425 1276 638 319 958 479 1438 719 2158 1079 3238 1619 4858 2429 7288 3644 1822 911 2734 1367 4102 2051 6154 3077 9232 4616 2308 1154 577 1732 866 433 1300 650 325 976 488 244 122 61 184 92 46 23 70 35 106 53 160 80 40 20 10 5 16 8 4 2 1 \n"
          ]
        }
      ],
      "execution_count": 1
    },
    {
      "id": "b383a7ca-affb-43d2-a011-e22dbc9e9aa5",
      "cell_type": "code",
      "source": "import sys\n\ntry:\n    n = int(sys.argv[1])\n    if n < 1:\n        raise ValueError\nexcept (IndexError, ValueError):\n    print('Введите число больше 0 в командную строку')\n    sys.exit(1)\n\nwhile True:\n    print(n, end=' ')\n    if n == 1:\n        break\n    if n % 2:\n        n = 3 * n + 1\n    else:\n        n = n // 2\nprint()",
      "metadata": {},
      "outputs": [
        {
          "name": "stdout",
          "output_type": "stream",
          "text": [
            "Введите число больше 0 в командную строку\n"
          ]
        },
        {
          "ename": "SystemExit",
          "evalue": "1",
          "output_type": "error",
          "traceback": [
            "An exception has occurred, use %tb to see the full traceback.\n",
            "\u001b[1;31mSystemExit\u001b[0m\u001b[1;31m:\u001b[0m 1\n"
          ]
        }
      ],
      "execution_count": 5
    },
    {
      "id": "7366678c-86b0-4147-b4f0-fcac642ae749",
      "cell_type": "code",
      "source": "import sys\nimport math\n\nhaversin = lambda alpha: math.sin(alpha/2)**2\n\ndef gc_distance(loc1, loc2, R=6378.1):\n    (phi1, lambda1), (phi2, lambda2) = loc1, loc2\n    d = 2 * R * math.asin(math.sqrt(haversin(phi2-phi1) + math.cos(phi1)*math.cos(phi2)*haversin(lambda2-lambda1)))\n    return d\n\nloc1, loc2 = sys.argv[1:]\nphi1, lambda1 = [math.radians(float(x)) for x in loc1.split(',')]\nphi2, lambda2 = [math.radians(float(x)) for x in loc2.split(',')]\n\nd = gc_distance((phi1, lambda1), (phi2, lambda2))\nprint('{} km'.format(int(d)))",
      "metadata": {},
      "outputs": [
        {
          "ename": "ValueError",
          "evalue": "could not convert string to float: '-f'",
          "output_type": "error",
          "traceback": [
            "\u001b[1;31m---------------------------------------------------------------------------\u001b[0m",
            "\u001b[1;31mValueError\u001b[0m                                Traceback (most recent call last)",
            "Cell \u001b[1;32mIn[6], line 12\u001b[0m\n\u001b[0;32m      9\u001b[0m     \u001b[38;5;28;01mreturn\u001b[39;00m d\n\u001b[0;32m     11\u001b[0m loc1, loc2 \u001b[38;5;241m=\u001b[39m sys\u001b[38;5;241m.\u001b[39margv[\u001b[38;5;241m1\u001b[39m:]\n\u001b[1;32m---> 12\u001b[0m phi1, lambda1 \u001b[38;5;241m=\u001b[39m [math\u001b[38;5;241m.\u001b[39mradians(\u001b[38;5;28mfloat\u001b[39m(x)) \u001b[38;5;28;01mfor\u001b[39;00m x \u001b[38;5;129;01min\u001b[39;00m loc1\u001b[38;5;241m.\u001b[39msplit(\u001b[38;5;124m'\u001b[39m\u001b[38;5;124m,\u001b[39m\u001b[38;5;124m'\u001b[39m)]\n\u001b[0;32m     13\u001b[0m phi2, lambda2 \u001b[38;5;241m=\u001b[39m [math\u001b[38;5;241m.\u001b[39mradians(\u001b[38;5;28mfloat\u001b[39m(x)) \u001b[38;5;28;01mfor\u001b[39;00m x \u001b[38;5;129;01min\u001b[39;00m loc2\u001b[38;5;241m.\u001b[39msplit(\u001b[38;5;124m'\u001b[39m\u001b[38;5;124m,\u001b[39m\u001b[38;5;124m'\u001b[39m)]\n\u001b[0;32m     15\u001b[0m d \u001b[38;5;241m=\u001b[39m gc_distance((phi1, lambda1), (phi2, lambda2))\n",
            "\u001b[1;31mValueError\u001b[0m: could not convert string to float: '-f'"
          ]
        }
      ],
      "execution_count": 6
    },
    {
      "id": "f9cbf671-792f-4a9b-b367-9bb53ab9104a",
      "cell_type": "code",
      "source": "import os\nimport math\n\nnfigs = 20\nHOME = os.getenv('HOME')\npathdir = os.path.join(HOME, 'test')\nif not os.path.exists(pathdir):\n    os.mkdir(pathdir)\n\ncanvas_height, canvas_width = 500, 500\ncx, cy = canvas_height / 2, canvas_width / 2\nr1, r2 = 200, 20\n\nalphas = [2*math.pi / nfigs * n for n in range(nfigs)]\n\nfor n, alpha in enumerate(alphas):\n    filename = os.path.join(pathdir, 'fig{:02d}.svg'.format(n))\n    with open(filename, 'w') as fo:\n        # SVG preamble\n        print(\"\"\"<?xml version=\"1.0\" encoding=\"utf-8\"?>\n                 <svg xmlns=\"http://www.w3.org/2000/svg\"\n                      xmlns:xlink=\"http://www.w3.org/1999/xlink\"\n                      width=\"{}\" height=\"{}\" style=\"background: {}\">\"\"\".format(\n                        canvas_width, canvas_height, '#ffffff'), file=fo)\n        print('<circle cx=\"{}\" cy=\"{}\" r=\"{}\" style=\"stroke: black;'\n              ' stroke-width: 2px; fill: none;\"/>'.format(cx, cy, r1),file=fo)\n        cx2, cy2 = cx+(r1-r2) * math.cos(alpha), cy+(r1-r2) * math.sin(alpha)\n        print('<circle cx=\"{}\" cy=\"{}\" r=\"{}\" style=\"stroke: red; fill: red;\"/>'\n                                .format(cx2, cy2, r2), file=fo)\n        print('</svg>', file=fo)",
      "metadata": {},
      "outputs": [
        {
          "ename": "TypeError",
          "evalue": "expected str, bytes or os.PathLike object, not NoneType",
          "output_type": "error",
          "traceback": [
            "\u001b[1;31m---------------------------------------------------------------------------\u001b[0m",
            "\u001b[1;31mTypeError\u001b[0m                                 Traceback (most recent call last)",
            "Cell \u001b[1;32mIn[7], line 6\u001b[0m\n\u001b[0;32m      4\u001b[0m nfigs \u001b[38;5;241m=\u001b[39m \u001b[38;5;241m20\u001b[39m\n\u001b[0;32m      5\u001b[0m HOME \u001b[38;5;241m=\u001b[39m os\u001b[38;5;241m.\u001b[39mgetenv(\u001b[38;5;124m'\u001b[39m\u001b[38;5;124mHOME\u001b[39m\u001b[38;5;124m'\u001b[39m)\n\u001b[1;32m----> 6\u001b[0m pathdir \u001b[38;5;241m=\u001b[39m os\u001b[38;5;241m.\u001b[39mpath\u001b[38;5;241m.\u001b[39mjoin(HOME, \u001b[38;5;124m'\u001b[39m\u001b[38;5;124mtest\u001b[39m\u001b[38;5;124m'\u001b[39m)\n\u001b[0;32m      7\u001b[0m \u001b[38;5;28;01mif\u001b[39;00m \u001b[38;5;129;01mnot\u001b[39;00m os\u001b[38;5;241m.\u001b[39mpath\u001b[38;5;241m.\u001b[39mexists(pathdir):\n\u001b[0;32m      8\u001b[0m     os\u001b[38;5;241m.\u001b[39mmkdir(pathdir)\n",
            "File \u001b[1;32m<frozen ntpath>:108\u001b[0m, in \u001b[0;36mjoin\u001b[1;34m(path, *paths)\u001b[0m\n",
            "\u001b[1;31mTypeError\u001b[0m: expected str, bytes or os.PathLike object, not NoneType"
          ]
        }
      ],
      "execution_count": 7
    },
    {
      "id": "9306998b-4540-4af5-83e5-cc57b94c9ea8",
      "cell_type": "markdown",
      "source": "Задание 3.4",
      "metadata": {}
    },
    {
      "id": "98a60d41-57f8-4099-95fc-a44bea261c82",
      "cell_type": "code",
      "source": "import os\nimport sys\n\nmonths = ['jan', 'feb', 'mar', 'apr', 'may', 'jun',\n          'jul', 'aug', 'sep', 'oct', 'nov', 'dec']\n\ntry:\n    dir_name = sys.argv[1]\nexcept IndexError:\n    print('No directory name provided. Usage:')\n    print('{} <dir_name>'.format(sys.argv[0]))\n    sys.exit(1)\n\nif not os.path.exists(dir_name):\n    print('Directory {} does not exist'.format(dir_name))\n    sys.exit(1)\n\nfor filename in os.listdir(dir_name):\n    try:\n        d, month, y = int(filename[5:7]), filename[8:11], int(filename[12:14])\n    except (IndexError, ValueError):\n        print('Skipping file', filename)\n        continue\n    \n    try:\n        m = months.index(month.lower())+1\n    except ValueError:\n        print('Skipping file {} (unrecognised month)'.format(filename))\n        continue\n    \n    newname = 'data-20{:02d}-{:02d}-{:02d}.txt'.format(y, m, d)\n    newpath = os.path.join(dir_name, newname)\n    oldpath = os.path.join(dir_name, filename)\n    print(oldpath, '->', newpath)\n    os.rename(oldpath, newpath)",
      "metadata": {},
      "outputs": [
        {
          "name": "stdout",
          "output_type": "stream",
          "text": [
            "Directory -f does not exist\n"
          ]
        },
        {
          "ename": "SystemExit",
          "evalue": "1",
          "output_type": "error",
          "traceback": [
            "An exception has occurred, use %tb to see the full traceback.\n",
            "\u001b[1;31mSystemExit\u001b[0m\u001b[1;31m:\u001b[0m 1\n"
          ]
        }
      ],
      "execution_count": 8
    },
    {
      "id": "8be11cd7-8023-400b-bc48-a94ca4d6f5e4",
      "cell_type": "code",
      "source": "",
      "metadata": {},
      "outputs": [],
      "execution_count": null
    }
  ]
}