{
  "metadata": {
    "kernelspec": {
      "name": "python",
      "display_name": "Python (Pyodide)",
      "language": "python"
    },
    "language_info": {
      "codemirror_mode": {
        "name": "python",
        "version": 3
      },
      "file_extension": ".py",
      "mimetype": "text/x-python",
      "name": "python",
      "nbconvert_exporter": "python",
      "pygments_lexer": "ipython3",
      "version": "3.8"
    }
  },
  "nbformat_minor": 4,
  "nbformat": 4,
  "cells": [
    {
      "cell_type": "code",
      "source": "def alkane_formula(stoich):\n    parts = stoich.split('H')\n    carbon_count = int(parts[0][1:])\n    hydrogen_count = int(parts[1])\n    if hydrogen_count != 2 * carbon_count + 2:\n        return \"Неверная стехиометрия!\"\n    formula = \"H3C-\" + \"-CH2-\" * (carbon_count - 2) + \"-CH3\"\n    return formula\n\nstoich = 'C8H18'\nresult = alkane_formula(stoich)\nprint(result)",
      "metadata": {
        "trusted": true
      },
      "outputs": [],
      "execution_count": null
    }
  ]
}